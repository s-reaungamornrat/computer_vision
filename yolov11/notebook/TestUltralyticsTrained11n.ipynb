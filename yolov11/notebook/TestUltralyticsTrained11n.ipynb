{
 "cells": [
  {
   "cell_type": "code",
   "execution_count": 1,
   "id": "aee213d7-2bb7-4c1f-987b-13ab7366b984",
   "metadata": {},
   "outputs": [],
   "source": [
    "import ultralytics"
   ]
  },
  {
   "cell_type": "code",
   "execution_count": 2,
   "id": "66929ebd-f802-44fc-9ea8-9ddcf09a62eb",
   "metadata": {},
   "outputs": [
    {
     "name": "stdout",
     "output_type": "stream",
     "text": [
      "\n",
      "\u001b[KDownloading https://github.com/ultralytics/assets/releases/download/v8.3.0/yolo11n.pt to 'yolo11n.pt': 1% â”€â”€â”€â”€â”€â”€â”€â”€â”€â”€â”€â”€ 40.0KB/5.4MB 55.6KB/s 0.2s<1:38\n",
      "\u001b[KDownloading https://github.com/ultralytics/assets/releases/download/v8.3.0/yolo11n.pt to 'yolo11n.pt': 1% â”€â”€â”€â”€â”€â”€â”€â”€â”€â”€â”€â”€ 80.0KB/5.4MB 153.2KB/s 0.3s<35.3s\n",
      "\u001b[KDownloading https://github.com/ultralytics/assets/releases/download/v8.3.0/yolo11n.pt to 'yolo11n.pt': 2% â”€â”€â”€â”€â”€â”€â”€â”€â”€â”€â”€â”€ 112.0KB/5.4MB 113.4KB/s 1.9s<47.4s\n",
      "\u001b[KDownloading https://github.com/ultralytics/assets/releases/download/v8.3.0/yolo11n.pt to 'yolo11n.pt': 12% â”�â”€â”€â”€â”€â”€â”€â”€â”€â”€â”€â”€ 640.0KB/5.4MB 1.3MB/s 2.3s<3.7s\n",
      "\u001b[KDownloading https://github.com/ultralytics/assets/releases/download/v8.3.0/yolo11n.pt to 'yolo11n.pt': 20% â”�â”�â”€â”€â”€â”€â”€â”€â”€â”€â”€â”€ 1.1/5.4MB 2.2MB/s 2.5s<1.9s\n",
      "\u001b[KDownloading https://github.com/ultralytics/assets/releases/download/v8.3.0/yolo11n.pt to 'yolo11n.pt': 22% â”�â”�â•¸â”€â”€â”€â”€â”€â”€â”€â”€â”€ 1.2/5.4MB 264.0KB/s 2.6s<16.3s\n",
      "\u001b[KDownloading https://github.com/ultralytics/assets/releases/download/v8.3.0/yolo11n.pt to 'yolo11n.pt': 31% â”�â”�â”�â•¸â”€â”€â”€â”€â”€â”€â”€â”€ 1.7/5.4MB 5.0MB/s 2.7s<0.7s\n",
      "\u001b[KDownloading https://github.com/ultralytics/assets/releases/download/v8.3.0/yolo11n.pt to 'yolo11n.pt': 34% â”�â”�â”�â”�â”€â”€â”€â”€â”€â”€â”€â”€ 1.8/5.4MB 1.4MB/s 2.8s<2.5s\n",
      "\u001b[KDownloading https://github.com/ultralytics/assets/releases/download/v8.3.0/yolo11n.pt to 'yolo11n.pt': 38% â”�â”�â”�â”�â•¸â”€â”€â”€â”€â”€â”€â”€ 2.0/5.4MB 1.3MB/s 3.0s<2.5s\n",
      "\u001b[KDownloading https://github.com/ultralytics/assets/releases/download/v8.3.0/yolo11n.pt to 'yolo11n.pt': 41% â”�â”�â”�â”�â•¸â”€â”€â”€â”€â”€â”€â”€ 2.2/5.4MB 1.9MB/s 3.1s<1.7s\n",
      "\u001b[KDownloading https://github.com/ultralytics/assets/releases/download/v8.3.0/yolo11n.pt to 'yolo11n.pt': 42% â”�â”�â”�â”�â”�â”€â”€â”€â”€â”€â”€â”€ 2.3/5.4MB 241.3KB/s 3.3s<13.1s\n",
      "\u001b[KDownloading https://github.com/ultralytics/assets/releases/download/v8.3.0/yolo11n.pt to 'yolo11n.pt': 49% â”�â”�â”�â”�â”�â•¸â”€â”€â”€â”€â”€â”€ 2.6/5.4MB 2.9MB/s 3.5s<0.9s\n",
      "\u001b[KDownloading https://github.com/ultralytics/assets/releases/download/v8.3.0/yolo11n.pt to 'yolo11n.pt': 52% â”�â”�â”�â”�â”�â”�â”€â”€â”€â”€â”€â”€ 2.8/5.4MB 1.5MB/s 3.6s<1.7s\n",
      "\u001b[KDownloading https://github.com/ultralytics/assets/releases/download/v8.3.0/yolo11n.pt to 'yolo11n.pt': 55% â”�â”�â”�â”�â”�â”�â•¸â”€â”€â”€â”€â”€ 3.0/5.4MB 1.9MB/s 3.7s<1.3s\n",
      "\u001b[KDownloading https://github.com/ultralytics/assets/releases/download/v8.3.0/yolo11n.pt to 'yolo11n.pt': 58% â”�â”�â”�â”�â”�â”�â•¸â”€â”€â”€â”€â”€ 3.1/5.4MB 1.5MB/s 3.8s<1.5s\n",
      "\u001b[KDownloading https://github.com/ultralytics/assets/releases/download/v8.3.0/yolo11n.pt to 'yolo11n.pt': 60% â”�â”�â”�â”�â”�â”�â”�â”€â”€â”€â”€â”€ 3.2/5.4MB 345.6KB/s 3.9s<6.4s\n",
      "\u001b[KDownloading https://github.com/ultralytics/assets/releases/download/v8.3.0/yolo11n.pt to 'yolo11n.pt': 61% â”�â”�â”�â”�â”�â”�â”�â”€â”€â”€â”€â”€ 3.3/5.4MB 474.9KB/s 4.0s<4.5s\n",
      "\u001b[KDownloading https://github.com/ultralytics/assets/releases/download/v8.3.0/yolo11n.pt to 'yolo11n.pt': 64% â”�â”�â”�â”�â”�â”�â”�â•¸â”€â”€â”€â”€ 3.4/5.4MB 1.1MB/s 4.1s<1.8s\n",
      "\u001b[KDownloading https://github.com/ultralytics/assets/releases/download/v8.3.0/yolo11n.pt to 'yolo11n.pt': 65% â”�â”�â”�â”�â”�â”�â”�â•¸â”€â”€â”€â”€ 3.5/5.4MB 510.2KB/s 4.3s<3.8s\n",
      "\u001b[KDownloading https://github.com/ultralytics/assets/releases/download/v8.3.0/yolo11n.pt to 'yolo11n.pt': 67% â”�â”�â”�â”�â”�â”�â”�â•¸â”€â”€â”€â”€ 3.6/5.4MB 628.9KB/s 4.4s<2.9s\n",
      "\u001b[KDownloading https://github.com/ultralytics/assets/releases/download/v8.3.0/yolo11n.pt to 'yolo11n.pt': 67% â”�â”�â”�â”�â”�â”�â”�â”�â”€â”€â”€â”€ 3.6/5.4MB 461.4KB/s 5.0s<3.9s\n",
      "\u001b[KDownloading https://github.com/ultralytics/assets/releases/download/v8.3.0/yolo11n.pt to 'yolo11n.pt': 79% â”�â”�â”�â”�â”�â”�â”�â”�â”�â”€â”€â”€ 4.2/5.4MB 5.8MB/s 5.1s<0.2s\n",
      "\u001b[KDownloading https://github.com/ultralytics/assets/releases/download/v8.3.0/yolo11n.pt to 'yolo11n.pt': 81% â”�â”�â”�â”�â”�â”�â”�â”�â”�â•¸â”€â”€ 4.3/5.4MB 472.2KB/s 5.3s<2.3s\n",
      "\u001b[KDownloading https://github.com/ultralytics/assets/releases/download/v8.3.0/yolo11n.pt to 'yolo11n.pt': 82% â”�â”�â”�â”�â”�â”�â”�â”�â”�â•¸â”€â”€ 4.4/5.4MB 568.4KB/s 5.4s<1.7s\n",
      "\u001b[KDownloading https://github.com/ultralytics/assets/releases/download/v8.3.0/yolo11n.pt to 'yolo11n.pt': 87% â”�â”�â”�â”�â”�â”�â”�â”�â”�â”�â”€â”€ 4.6/5.4MB 2.3MB/s 5.5s<0.3s\n",
      "\u001b[KDownloading https://github.com/ultralytics/assets/releases/download/v8.3.0/yolo11n.pt to 'yolo11n.pt': 88% â”�â”�â”�â”�â”�â”�â”�â”�â”�â”�â•¸â”€ 4.7/5.4MB 680.2KB/s 5.6s<0.9s\n",
      "\u001b[KDownloading https://github.com/ultralytics/assets/releases/download/v8.3.0/yolo11n.pt to 'yolo11n.pt': 90% â”�â”�â”�â”�â”�â”�â”�â”�â”�â”�â•¸â”€ 4.8/5.4MB 755.8KB/s 5.8s<0.7s\n",
      "\u001b[KDownloading https://github.com/ultralytics/assets/releases/download/v8.3.0/yolo11n.pt to 'yolo11n.pt': 93% â”�â”�â”�â”�â”�â”�â”�â”�â”�â”�â”�â”€ 5.0/5.4MB 1.3MB/s 5.9s<0.3s\n",
      "\u001b[KDownloading https://github.com/ultralytics/assets/releases/download/v8.3.0/yolo11n.pt to 'yolo11n.pt': 97% â”�â”�â”�â”�â”�â”�â”�â”�â”�â”�â”�â•¸ 5.2/5.4MB 1.6MB/s 6.0s<0.1s\n",
      "\u001b[KDownloading https://github.com/ultralytics/assets/releases/download/v8.3.0/yolo11n.pt to 'yolo11n.pt': 98% â”�â”�â”�â”�â”�â”�â”�â”�â”�â”�â”�â•¸ 5.3/5.4MB 717.6KB/s 6.1s<0.1s\n",
      "\u001b[KDownloading https://github.com/ultralytics/assets/releases/download/v8.3.0/yolo11n.pt to 'yolo11n.pt': 99% â”�â”�â”�â”�â”�â”�â”�â”�â”�â”�â”�â•¸ 5.3/5.4MB 592.0KB/s 6.2s<0.1s\n",
      "\u001b[KDownloading https://github.com/ultralytics/assets/releases/download/v8.3.0/yolo11n.pt to 'yolo11n.pt': 99% â”�â”�â”�â”�â”�â”�â”�â”�â”�â”�â”�â•¸ 5.3/5.4MB 418.9KB/s 7.3s<0.1s\n",
      "\u001b[KDownloading https://github.com/ultralytics/assets/releases/download/v8.3.0/yolo11n.pt to 'yolo11n.pt': 100% â”�â”�â”�â”�â”�â”�â”�â”�â”�â”�â”�â”� 5.4MB 746.9KB/s 7.3s\n",
      "\u001b[KDownloading https://github.com/ultralytics/assets/releases/download/v8.3.0/yolo11n.pt to 'yolo11n.pt': 100% â”�â”�â”�â”�â”�â”�â”�â”�â”�â”�â”�â”� 5.4MB 746.9KB/s 7.3s\n",
      "Ultralytics 8.3.203  Python-3.10.18 torch-2.8.0+cpu CPU (AMD Ryzen 3 3200U with Radeon Vega Mobile Gfx)\n",
      "YOLO11n summary (fused): 100 layers, 2,616,248 parameters, 0 gradients, 6.5 GFLOPs\n",
      "\n",
      "\n",
      "\u001b[KDownloading https://ultralytics.com/images/bus.jpg to 'bus.jpg': 30% â”�â”�â”�â•¸â”€â”€â”€â”€â”€â”€â”€â”€ 40.0/134.2KB 52.1KB/s 0.2s<1.8s\n",
      "\u001b[KDownloading https://ultralytics.com/images/bus.jpg to 'bus.jpg': 72% â”�â”�â”�â”�â”�â”�â”�â”�â•¸â”€â”€â”€ 96.0/134.2KB 189.9KB/s 0.3s<0.2s\n",
      "\u001b[KDownloading https://ultralytics.com/images/bus.jpg to 'bus.jpg': 83% â”�â”�â”�â”�â”�â”�â”�â”�â”�â”�â”€â”€ 112.0/134.2KB 174.6KB/s 0.5s<0.1s\n",
      "\u001b[KDownloading https://ultralytics.com/images/bus.jpg to 'bus.jpg': 100% â”�â”�â”�â”�â”�â”�â”�â”�â”�â”�â”�â”� 134.2KB 279.7KB/s 0.5s\n",
      "\u001b[KDownloading https://ultralytics.com/images/bus.jpg to 'bus.jpg': 100% â”�â”�â”�â”�â”�â”�â”�â”�â”�â”�â”�â”� 134.2KB 279.7KB/s 0.5s\n",
      "image 1/1 D:\\dev\\video_processing\\yolov11\\notebook\\bus.jpg: 640x480 4 persons, 1 bus, 1905.2ms\n",
      "Speed: 24.8ms preprocess, 1905.2ms inference, 11.2ms postprocess per image at shape (1, 3, 640, 480)\n",
      "Results saved to \u001b[1mD:\\results\\yolov11\\detect\\predict\u001b[0m\n",
      " Learn more at https://docs.ultralytics.com/modes/predict\n"
     ]
    }
   ],
   "source": [
    "!yolo predict model=yolo11n.pt source='https://ultralytics.com/images/bus.jpg'"
   ]
  }
 ],
 "metadata": {
  "kernelspec": {
   "display_name": "Python [conda env:ultralytics]",
   "language": "python",
   "name": "conda-env-ultralytics-py"
  },
  "language_info": {
   "codemirror_mode": {
    "name": "ipython",
    "version": 3
   },
   "file_extension": ".py",
   "mimetype": "text/x-python",
   "name": "python",
   "nbconvert_exporter": "python",
   "pygments_lexer": "ipython3",
   "version": "3.10.18"
  }
 },
 "nbformat": 4,
 "nbformat_minor": 5
}
