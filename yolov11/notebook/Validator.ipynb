{
 "cells": [
  {
   "cell_type": "markdown",
   "id": "79853f3d-8db1-41bd-a177-ded9ce2b76a0",
   "metadata": {},
   "source": [
    "[`DetectionValidator`](https://github.com/ultralytics/ultralytics/blob/main/ultralytics/models/yolo/detect/val.py)"
   ]
  },
  {
   "cell_type": "code",
   "execution_count": 1,
   "id": "0c5d7675-28a5-49a2-883e-ad22a980f936",
   "metadata": {},
   "outputs": [],
   "source": [
    "%matplotlib inline\n",
    "__import__(\"os\").environ[\"CUBLAS_WORKSPACE_CONFIG\"] = \":4096:8\""
   ]
  },
  {
   "cell_type": "code",
   "execution_count": 2,
   "id": "4c7326d4-bfb2-42b6-ab3d-db04334feaed",
   "metadata": {},
   "outputs": [],
   "source": [
    "import os\n",
    "import copy\n",
    "import matplotlib.pyplot as plt\n",
    "\n",
    "import torch\n",
    "import random\n",
    "import numpy as np\n",
    "\n",
    "seed=0\n",
    "torch.manual_seed(seed)\n",
    "random.seed(seed)\n",
    "np.random.seed(seed)"
   ]
  },
  {
   "cell_type": "code",
   "execution_count": 3,
   "id": "99f56415-34f1-4020-ac00-dde7502b482c",
   "metadata": {},
   "outputs": [],
   "source": [
    "import sys\n",
    "sys.path.append('../../..')\n",
    "\n",
    "%load_ext autoreload\n",
    "%autoreload 2\n",
    "\n",
    "from computer_vision.yolov11.utils.check import check_imgsz\n",
    "from computer_vision.yolov11.modules.detector import DetectionModel\n",
    "from computer_vision.yolov11.parameter_parser import parser\n",
    "from computer_vision.yolov11.data.dataset import YOLODataset\n",
    "from computer_vision.yolov11.modules.validator import DetectionValidator"
   ]
  },
  {
   "cell_type": "code",
   "execution_count": 4,
   "id": "86909186-2cdf-4223-83ea-1455969fc7ff",
   "metadata": {},
   "outputs": [],
   "source": [
    "data_dirpath=r'D:/data/ultralytics/coco128'\n",
    "result_dirpath='D:/results/yolov11/training'\n",
    "\n",
    "argument=f'''--root {data_dirpath} --train-image-dirname images/train2017 --train-label-dirname labels/train2017\n",
    "--val-image-dirname images/train2017 --val-label-dirname labels/train2017\n",
    "--data-cfg ../coco128.yaml --hyperparam ../default.yaml --model-cfg ../yolo11.yaml \n",
    "--batch-size 2 --output-dirpath {result_dirpath} --checkpoint-dirpath {result_dirpath}/checkpoints \n",
    "--save-period 1 --save-json '''\n",
    "args=parser.parse_args(argument.split())\n",
    "\n",
    "if not os.path.isdir(args.checkpoint_dirpath): os.makedirs(args.checkpoint_dirpath)"
   ]
  },
  {
   "cell_type": "markdown",
   "id": "1e351df4-2d33-48af-8350-8bda92143858",
   "metadata": {},
   "source": [
    "[`DetMetrics`](https://github.com/ultralytics/ultralytics/blob/main/ultralytics/utils/metrics.py#L1032)"
   ]
  },
  {
   "cell_type": "code",
   "execution_count": 5,
   "id": "69daf3a7-a5ad-4dcb-b2f0-796b1d470f7b",
   "metadata": {},
   "outputs": [],
   "source": [
    "from __future__ import annotations\n",
    "\n",
    "import os\n",
    "import yaml\n",
    "import copy\n",
    "from pathlib import Path\n",
    "from typing import Any\n",
    "from argparse import Namespace\n",
    "\n",
    "import torch\n",
    "import numpy as np\n",
    "from computer_vision.yolov11.utils.metrics import Metric\n",
    "from computer_vision.yolov11.utils import ops"
   ]
  },
  {
   "cell_type": "markdown",
   "id": "cc05e143-c264-4f3b-a82a-b579543e07c4",
   "metadata": {},
   "source": [
    "[`DetectionValidator`](https://github.com/ultralytics/ultralytics/blob/main/ultralytics/models/yolo/detect/val.py#L16)"
   ]
  },
  {
   "cell_type": "code",
   "execution_count": 6,
   "id": "df09daad-0227-4e86-9b8f-1788f85e2b6c",
   "metadata": {},
   "outputs": [
    {
     "name": "stdout",
     "output_type": "stream",
     "text": [
      "Load model with modify name\n"
     ]
    }
   ],
   "source": [
    "model_dirpath='D:/results/yolov11/checkpoints'\n",
    "# to load ultralytics models (models downloaded previously by ultralytics) we need to use ultralytics library, as a work around,\n",
    "# we resave it using torch to remove ultralytics dependency\n",
    "# checkpoint=torch.load(os.path.join(model_dirpath, 'yolo11n.pt'), map_location=torch.device('cpu'), weights_only=False)\n",
    "\n",
    "model=DetectionModel(cfg='../yolo11.yaml', ch=3)\n",
    "checkpoint=torch.load(os.path.join(model_dirpath, 'predictor_yolo11n_torch.pt'), map_location=torch.device('cpu'), weights_only=True) # may have model. as added prefix\n",
    "try:\n",
    "    model.load_state_dict(checkpoint['model'])\n",
    "except RuntimeError as err:\n",
    "    state_dict=copy.deepcopy(model.state_dict())\n",
    "    for name, params in checkpoint['model'].items():\n",
    "        name=name[len('model.'):] # each parameter name is model.model.xxx so we need to remove 1 model.\n",
    "        \n",
    "        if name not in state_dict or params.shape!=state_dict[name].shape:\n",
    "            print(name, name in state_dict, params.shape!=state_dict[name].shape if name in state_dict else None)\n",
    "        else: state_dict[name]=params\n",
    "    model.load_state_dict(state_dict)\n",
    "    print('Load model with modify name')"
   ]
  },
  {
   "cell_type": "code",
   "execution_count": 7,
   "id": "efaf8b53-4d9f-472f-82f8-7fc4e2532664",
   "metadata": {},
   "outputs": [
    {
     "name": "stdout",
     "output_type": "stream",
     "text": [
      "In data.dataset.YOLODataset.update_images_labels cache path D:\\data\\ultralytics\\coco128\\labels\\train2017.cache exist. Load it!!!\n",
      "Scanning D:\\data\\ultralytics\\coco128\\labels\\train2017.cache ... 126 images with 2 missing and 0 empty files as well as 0 corrupt files\n",
      "max_buffer_length  0  ni  128\n"
     ]
    }
   ],
   "source": [
    "val_dataset=YOLODataset(img_path=(Path(args.root)/args.val_image_dirname),\n",
    "                        label_path=(Path(args.root)/args.val_label_dirname),\n",
    "                        data=args.data_cfg, hyp=args.hyperparam, imgsz=args.imgsz, cache=True, augment=False, rect=False, \n",
    "                        batch_size=args.batch_size, stride=32, pad=0.5,  single_cls=False, classes=None, fraction=1., channels=3)\n",
    "val_loader=torch.utils.data.DataLoader(dataset=val_dataset, batch_size=args.batch_size, shuffle=False, sampler=None, batch_sampler=None, \n",
    "                                       num_workers=0, collate_fn=YOLODataset.collate_fn, pin_memory=False, drop_last=False, \n",
    "                                       timeout=0, worker_init_fn=None, prefetch_factor=None, persistent_workers=False)\n",
    "validator=DetectionValidator(hyperparam=Path(args.hyperparam), data_cfg=val_dataset.data, dataloader=val_loader, \n",
    "                 save_dir=Path(args.output_dirpath), args=args)"
   ]
  },
  {
   "cell_type": "code",
   "execution_count": 9,
   "id": "c619cbba-1cd1-42cb-984b-d2a68c260612",
   "metadata": {},
   "outputs": [
    {
     "name": "stdout",
     "output_type": "stream",
     "text": [
      "                   all        128        929      0.742       0.56      0.679      0.513\n",
      "                     0         61        254      0.887      0.616      0.788      0.558\n",
      "                     1          3          6      0.347      0.167      0.349      0.198\n",
      "                     2         12         46      0.769      0.174      0.253      0.176\n",
      "                     3          4          5      0.784          1      0.962      0.785\n",
      "                     4          5          6          1      0.945      0.995      0.929\n",
      "                     5          5          7       0.81      0.714      0.741      0.694\n",
      "                     6          3          3      0.866          1      0.995       0.91\n",
      "                     7          5         12      0.435      0.167       0.41      0.246\n",
      "                     8          2          6      0.698      0.397      0.518      0.389\n",
      "                     9          4         14      0.551      0.143      0.254      0.175\n",
      "                    11          2          2      0.809          1      0.995      0.754\n",
      "                    13          5          9          1        0.3      0.687      0.367\n",
      "                    14          2         16      0.969          1      0.995      0.638\n",
      "                    15          4          4      0.862          1      0.995      0.764\n",
      "                    16          9          9      0.616      0.778      0.868      0.676\n",
      "                    17          1          2      0.778          1      0.995      0.702\n",
      "                    20          4         17      0.888      0.941      0.951      0.776\n",
      "                    21          1          1      0.667          1      0.995      0.995\n",
      "                    22          2          4      0.871          1      0.995      0.977\n",
      "                    23          4          9      0.911      0.889       0.94       0.74\n",
      "                    24          4          6          1      0.293      0.464      0.256\n",
      "                    25          4         18      0.877      0.333      0.716      0.418\n",
      "                    26          9         19          0          0      0.114     0.0732\n",
      "                    27          6          7          1      0.528      0.866      0.599\n",
      "                    28          2          4      0.765          1      0.995      0.619\n",
      "                    29          5          5      0.691        0.8      0.776       0.69\n",
      "                    30          1          1      0.676          1      0.995      0.697\n",
      "                    31          2          7          1      0.516      0.797      0.503\n",
      "                    32          6          6       0.65      0.333      0.519      0.336\n",
      "                    33          2         10      0.773        0.4      0.641      0.246\n",
      "                    34          4          4      0.189     0.0945       0.19      0.112\n",
      "                    35          4          7      0.599      0.429      0.441      0.228\n",
      "                    36          3          5      0.742        0.4      0.541      0.444\n",
      "                    38          5          7      0.625      0.429      0.584      0.307\n",
      "                    39          6         18      0.618       0.27      0.487      0.314\n",
      "                    40          5         16      0.776      0.375      0.662       0.42\n",
      "                    41         10         36      0.851      0.278      0.427      0.304\n",
      "                    42          6          6          1      0.297      0.434      0.309\n",
      "                    43          7         16      0.745      0.438      0.628      0.418\n",
      "                    44          5         22          1      0.223      0.453      0.314\n",
      "                    45          9         28      0.758      0.673      0.679      0.595\n",
      "                    46          1          1      0.719          1      0.995      0.497\n",
      "                    48          2          2      0.501          1      0.663      0.663\n",
      "                    49          1          4          1          0      0.849      0.549\n",
      "                    50          4         11      0.595      0.182       0.26      0.226\n",
      "                    51          3         24       0.73      0.417      0.607       0.41\n",
      "                    52          1          2      0.572          1      0.995      0.995\n",
      "                    53          5          5      0.637          1      0.995      0.823\n",
      "                    54          2         14      0.677          1      0.907        0.8\n",
      "                    55          4          4      0.596       0.75      0.888      0.705\n",
      "                    56          9         35      0.578      0.509      0.564      0.317\n",
      "                    57          5          6      0.578      0.687      0.725      0.577\n",
      "                    58          9         14          1      0.482       0.76      0.566\n",
      "                    59          3          3      0.565      0.464       0.83       0.61\n",
      "                    60         10         13      0.633      0.538      0.631      0.493\n",
      "                    61          2          2      0.656        0.5      0.559      0.559\n",
      "                    62          2          2       0.71          1      0.995      0.847\n",
      "                    63          2          3          1          0      0.707      0.566\n",
      "                    64          2          2          1          0      0.125     0.0125\n",
      "                    65          5          8      0.914        0.5      0.561      0.459\n",
      "                    67          5          8          1          0       0.12     0.0702\n",
      "                    68          3          3      0.652          1      0.995       0.93\n",
      "                    69          5          5      0.337        0.4      0.319      0.266\n",
      "                    71          4          6      0.314      0.167      0.229      0.169\n",
      "                    72          5          5      0.904          1      0.995      0.726\n",
      "                    73          6         29      0.693      0.103      0.381       0.22\n",
      "                    74          8          9       0.91      0.778      0.886      0.769\n",
      "                    75          2          2      0.517          1      0.995      0.896\n",
      "                    76          1          1          1          0          0          0\n",
      "                    77          6         21      0.804      0.333      0.661      0.483\n",
      "                    79          2          5          1      0.595      0.938      0.582\n"
     ]
    },
    {
     "data": {
      "text/plain": [
       "{'metrics/precision(B)': 0.741509716636013,\n",
       " 'metrics/recall(B)': 0.5597794926183444,\n",
       " 'metrics/mAP50(B)': 0.6792360308149096,\n",
       " 'metrics/mAP50-95(B)': 0.5131817304679367,\n",
       " 'fitness': 0.5131817304679367}"
      ]
     },
     "execution_count": 9,
     "metadata": {},
     "output_type": "execute_result"
    }
   ],
   "source": [
    "validator(model=model)"
   ]
  },
  {
   "cell_type": "code",
   "execution_count": null,
   "id": "6a6c294c-a6d6-4801-af23-9396b3b8485b",
   "metadata": {},
   "outputs": [],
   "source": []
  },
  {
   "cell_type": "code",
   "execution_count": null,
   "id": "089a9d42-2d9c-4cb3-b9fe-c8888bdbc4ae",
   "metadata": {
    "scrolled": true
   },
   "outputs": [],
   "source": []
  },
  {
   "cell_type": "code",
   "execution_count": null,
   "id": "17816cf6-90b2-4f5d-8422-d32a1c981ae5",
   "metadata": {},
   "outputs": [],
   "source": []
  }
 ],
 "metadata": {
  "kernelspec": {
   "display_name": "Python [conda env:op_cv]",
   "language": "python",
   "name": "conda-env-op_cv-py"
  },
  "language_info": {
   "codemirror_mode": {
    "name": "ipython",
    "version": 3
   },
   "file_extension": ".py",
   "mimetype": "text/x-python",
   "name": "python",
   "nbconvert_exporter": "python",
   "pygments_lexer": "ipython3",
   "version": "3.9.21"
  }
 },
 "nbformat": 4,
 "nbformat_minor": 5
}
