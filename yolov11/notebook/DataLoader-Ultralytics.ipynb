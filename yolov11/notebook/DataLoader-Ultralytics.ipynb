{
 "cells": [
  {
   "cell_type": "markdown",
   "id": "54431958-be0f-4c5b-a804-1a64a29e422a",
   "metadata": {},
   "source": [
    "I do not think Ultralytics allow rect training since `__getitem__` returns images with different image size. I might miss something here...."
   ]
  },
  {
   "cell_type": "code",
   "execution_count": 2,
   "id": "7d0991e8-f237-402c-9940-0ec95c74400d",
   "metadata": {},
   "outputs": [],
   "source": [
    "%matplotlib inline\n",
    "\n",
    "import os\n",
    "import sys\n",
    "import yaml\n",
    "import torch\n",
    "import numpy as np\n",
    "import matplotlib.pyplot as plt\n",
    "\n",
    "sys.path.append('../../../')\n",
    "sys.path.append('../../../ultralytics')"
   ]
  },
  {
   "cell_type": "code",
   "execution_count": 3,
   "id": "f8d2005d-6407-4a47-86d1-0ce3cfa9b63f",
   "metadata": {},
   "outputs": [],
   "source": [
    "import ultralytics\n",
    "from ultralytics.data.dataset import YOLODataset"
   ]
  },
  {
   "cell_type": "code",
   "execution_count": 7,
   "id": "445fccfe-9514-473e-bc50-ff6c56b75128",
   "metadata": {},
   "outputs": [
    {
     "name": "stdout",
     "output_type": "stream",
     "text": [
      "Fast image access  (ping: 0.40.6 ms, read: 164.076.9 MB/s, size: 57.4 KB)\n",
      "\u001b[KScanning D:\\data\\ultralytics\\coco128\\labels\\train2017.cache... 126 images, 2 backgrounds, 0 corrupt: 100% ━━━━━━━━━━━━ 128/128 63.9Kit/s 0.0s\n"
     ]
    }
   ],
   "source": [
    "\n",
    "data_dirpath=r'D:/data/ultralytics/coco128'\n",
    "data_cfg='../coco128.yaml'\n",
    "# hyperparam='../default.yaml'\n",
    "# with open(hyp) as f: hyp=yaml.load(f, Loader=yaml.SafeLoader)\n",
    "with open(data_cfg, encoding=\"utf8\") as f: data=yaml.load(f, Loader=yaml.SafeLoader)\n",
    "\n",
    "dataset=YOLODataset(data_dirpath, data=data, rect=True, augment=True,\n",
    "                    batch_size=8, stride=32, pad=0.5, \n",
    "                    single_cls=False, classes=None, fraction=1.)\n"
   ]
  },
  {
   "cell_type": "code",
   "execution_count": 8,
   "id": "4b34e5eb-f1a3-4b28-855d-9ce3e9b5984e",
   "metadata": {},
   "outputs": [
    {
     "name": "stdout",
     "output_type": "stream",
     "text": [
      "[torch.Size([3, 672, 672]), torch.Size([3, 448, 672]), torch.Size([3, 448, 672])]\n"
     ]
    }
   ],
   "source": [
    "batch=[dataset[i] for i in [90,10,20]]\n",
    "\n",
    "keys=batch[0].keys()\n",
    "values=list(zip(*[list(b.values()) for b in batch]))\n",
    "\n",
    "for i, k in enumerate(keys):\n",
    "    value=values[i]\n",
    "    if k=='img': print([v.shape for v in value])"
   ]
  }
 ],
 "metadata": {
  "kernelspec": {
   "display_name": "Python [conda env:op_cv]",
   "language": "python",
   "name": "conda-env-op_cv-py"
  },
  "language_info": {
   "codemirror_mode": {
    "name": "ipython",
    "version": 3
   },
   "file_extension": ".py",
   "mimetype": "text/x-python",
   "name": "python",
   "nbconvert_exporter": "python",
   "pygments_lexer": "ipython3",
   "version": "3.9.21"
  }
 },
 "nbformat": 4,
 "nbformat_minor": 5
}
