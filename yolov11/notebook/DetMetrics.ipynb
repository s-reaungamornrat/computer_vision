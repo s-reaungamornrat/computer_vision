{
 "cells": [
  {
   "cell_type": "code",
   "execution_count": 1,
   "id": "bbb1beb3-3a76-473d-87d9-2150ee43c621",
   "metadata": {},
   "outputs": [],
   "source": [
    "import os\n",
    "import copy\n",
    "import matplotlib.pyplot as plt\n",
    "\n",
    "import torch\n",
    "import random\n",
    "import numpy as np\n",
    "\n",
    "seed=0\n",
    "torch.manual_seed(seed)\n",
    "random.seed(seed)\n",
    "np.random.seed(seed)"
   ]
  },
  {
   "cell_type": "code",
   "execution_count": 2,
   "id": "f772862a-cb35-4cf3-bae6-7bf2eb83e092",
   "metadata": {},
   "outputs": [],
   "source": [
    "import sys\n",
    "sys.path.append('../../..')\n",
    "\n",
    "%load_ext autoreload\n",
    "%autoreload 2\n",
    "\n",
    "from computer_vision.yolov11.modules.detector import DetectionModel\n",
    "from computer_vision.yolov11.parameter_parser import parser\n",
    "from computer_vision.yolov11.utils.check import check_imgsz\n",
    "from computer_vision.yolov11.data.dataset import YOLODataset\n",
    "from computer_vision.yolov11.utils.metrics import Metric"
   ]
  },
  {
   "cell_type": "code",
   "execution_count": 3,
   "id": "6f502c1a-efa4-4aad-bc52-37e08899b75e",
   "metadata": {},
   "outputs": [],
   "source": []
  },
  {
   "cell_type": "code",
   "execution_count": 4,
   "id": "d132a0a2-868f-4850-8387-eb2534d719ae",
   "metadata": {},
   "outputs": [
    {
     "data": {
      "text/plain": [
       "{'tp': [], 'conf': [], 'pred_cls': [], 'target_cls': [], 'target_img': []}"
      ]
     },
     "execution_count": 4,
     "metadata": {},
     "output_type": "execute_result"
    }
   ],
   "source": [
    "dict(tp=[], conf=[], pred_cls=[], target_cls=[], target_img=[])"
   ]
  }
 ],
 "metadata": {
  "kernelspec": {
   "display_name": "Python [conda env:op_cv]",
   "language": "python",
   "name": "conda-env-op_cv-py"
  },
  "language_info": {
   "codemirror_mode": {
    "name": "ipython",
    "version": 3
   },
   "file_extension": ".py",
   "mimetype": "text/x-python",
   "name": "python",
   "nbconvert_exporter": "python",
   "pygments_lexer": "ipython3",
   "version": "3.9.21"
  }
 },
 "nbformat": 4,
 "nbformat_minor": 5
}
