{
 "cells": [
  {
   "cell_type": "code",
   "execution_count": 1,
   "id": "e0b71968-ef24-42f1-a463-e4e3f7e2a496",
   "metadata": {},
   "outputs": [],
   "source": [
    "import os\n",
    "import sys\n",
    "\n",
    "from ultralytics import settings\n",
    "from ultralytics.data.utils import check_det_dataset"
   ]
  },
  {
   "cell_type": "code",
   "execution_count": 2,
   "id": "d7662fbd-73b9-4e74-a0b1-296db4af313b",
   "metadata": {},
   "outputs": [
    {
     "name": "stdout",
     "output_type": "stream",
     "text": [
      "settings  dict_keys(['settings_version', 'datasets_dir', 'weights_dir', 'runs_dir', 'uuid', 'sync', 'api_key', 'openai_api_key', 'clearml', 'comet', 'dvc', 'hub', 'mlflow', 'neptune', 'raytune', 'tensorboard', 'wandb', 'vscode_msg', 'openvino_msg'])\n",
      "datasets_dir  D:/data/ultralytics\n",
      "weights_dir  D:/results/yolov11\\checkpoints\n",
      "runs_dir  D:/results/yolov11\n"
     ]
    }
   ],
   "source": [
    "print('settings ', settings.keys())\n",
    "print('datasets_dir ', settings['datasets_dir'])\n",
    "print('weights_dir ', settings['weights_dir'])\n",
    "print('runs_dir ', settings['runs_dir'])\n",
    "settings['datasets_dir']='D:/data/ultralytics'\n",
    "settings['runs_dir']='D:/results/yolov11'\n",
    "settings['weights_dir']=os.path.join(settings['runs_dir'], 'checkpoints')\n",
    "if not os.path.isdir(settings['weights_dir']): os.makedirs(settings['weights_dir'])"
   ]
  },
  {
   "cell_type": "code",
   "execution_count": 3,
   "id": "2814511f-03db-475a-b2a2-ab2481105635",
   "metadata": {},
   "outputs": [],
   "source": [
    "dataset=check_det_dataset(\"coco128.yaml\")"
   ]
  },
  {
   "cell_type": "code",
   "execution_count": null,
   "id": "3e891864-0731-4066-8f5d-db078311075e",
   "metadata": {},
   "outputs": [],
   "source": []
  }
 ],
 "metadata": {
  "kernelspec": {
   "display_name": "Python [conda env:ultralytics]",
   "language": "python",
   "name": "conda-env-ultralytics-py"
  },
  "language_info": {
   "codemirror_mode": {
    "name": "ipython",
    "version": 3
   },
   "file_extension": ".py",
   "mimetype": "text/x-python",
   "name": "python",
   "nbconvert_exporter": "python",
   "pygments_lexer": "ipython3",
   "version": "3.10.18"
  }
 },
 "nbformat": 4,
 "nbformat_minor": 5
}
