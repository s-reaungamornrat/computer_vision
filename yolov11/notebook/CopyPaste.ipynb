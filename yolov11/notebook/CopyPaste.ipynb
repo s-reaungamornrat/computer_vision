{
 "cells": [
  {
   "cell_type": "code",
   "execution_count": null,
   "id": "a0127bae-c3d9-48ee-938e-70c4069ff1b9",
   "metadata": {},
   "outputs": [],
   "source": [
    "import os\n",
    "import sys\n",
    "sys.path.append('../../..')\n",
    "\n",
    "%load_ext autoreload\n",
    "%autoreload 2\n",
    "\n",
    "from computer_vision.yolov11.modules.detector import DetectionModel\n",
    "from computer_vision.yolov11.parameter_parser import parser\n",
    "from computer_vision.yolov11.utils.check import check_imgsz\n",
    "from computer_vision.yolov11.data.dataset import YOLODataset"
   ]
  },
  {
   "cell_type": "code",
   "execution_count": null,
   "id": "b04d984d-9886-4725-8e6f-bee7a0e308a2",
   "metadata": {},
   "outputs": [],
   "source": [
    "data_dirpath=r'D:/data/ultralytics/coco128'\n",
    "\n",
    "argument=f'''--root {data_dirpath} --image-dirname images/train2017 --label-dirname labels/train2017\n",
    "--data-cfg ../coco128.yaml --hyperparam ../default.yaml '''\n",
    "args=parser.parse_args(argument.split())\n",
    "\n",
    "model=DetectionModel(cfg='../yolo11.yaml', ch=3)\n",
    "print('stride ', model.stride)\n",
    "gs = max(int(model.stride.max() if hasattr(model, \"stride\") else 32), 32)  # grid size (max stride)\n",
    "print('grid size ', gs)\n",
    "check_imgsz(args.imgsz, stride=gs, floor=gs, max_dim=1) # args.imgsz \n",
    "\n",
    "dataset=YOLODataset(img_path=os.path.join(args.root, args.image_dirname),label_path=os.path.join(args.root, args.label_dirname),\n",
    "                    data=args.data_cfg, hyp=args.hyperparam, imgsz=640, cache=True, augment=True, rect=False, batch_size=8, stride=32, pad=0.5, \n",
    "                    single_cls=False, classes=None, fraction=1., channels=3)\n",
    "\n",
    "print('dataset.im_files ', len(dataset.im_files))"
   ]
  },
  {
   "cell_type": "code",
   "execution_count": null,
   "id": "ceb2bf72-0c17-4474-9487-a8531e65f4d1",
   "metadata": {},
   "outputs": [],
   "source": [
    "from __future__ import annotations\n",
    "\n",
    "import random\n",
    "from typing import Any\n",
    "\n",
    "import numpy as np\n",
    "\n",
    "from computer_vision.yolov11.instance.instance import Instances\n",
    "from computer_vision.yolov11.data.augment import BaseMixTransform, Mosaic\n",
    "from computer_vision.yolov11.utils.ops import xywhn2xyxy, xywh2xyxy\n",
    "from computer_vision.yolov11.data.utils import imread\n",
    "\n",
    "\n",
    "from matplotlib import patches\n",
    "import matplotlib.pyplot as plt\n",
    "\n",
    "cmap = plt.get_cmap('tab10', 10)\n",
    "plt.rcParams.update({'font.size'   : 12})"
   ]
  },
  {
   "cell_type": "code",
   "execution_count": null,
   "id": "bbc60566-fcd5-49ee-82ee-7a17943b9ef4",
   "metadata": {},
   "outputs": [],
   "source": [
    "labels=dataset.get_image_and_label(index=90)"
   ]
  },
  {
   "cell_type": "markdown",
   "id": "05a48d6a-8000-4d27-88ca-12b0ea18cdc2",
   "metadata": {},
   "source": [
    "# "
   ]
  }
 ],
 "metadata": {
  "kernelspec": {
   "display_name": "Python [conda env:op_cv]",
   "language": "python",
   "name": "conda-env-op_cv-py"
  },
  "language_info": {
   "codemirror_mode": {
    "name": "ipython",
    "version": 3
   },
   "file_extension": ".py",
   "mimetype": "text/x-python",
   "name": "python",
   "nbconvert_exporter": "python",
   "pygments_lexer": "ipython3",
   "version": "3.9.21"
  }
 },
 "nbformat": 4,
 "nbformat_minor": 5
}
