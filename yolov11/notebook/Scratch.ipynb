{
 "cells": [
  {
   "cell_type": "code",
   "execution_count": 1,
   "id": "22bdb016-ea22-4567-be2a-ea3389911fd9",
   "metadata": {},
   "outputs": [],
   "source": [
    "import os\n",
    "import sys\n",
    "\n",
    "import torch"
   ]
  },
  {
   "cell_type": "code",
   "execution_count": 4,
   "id": "7fdcfaca-ee09-4712-aaf9-058843bad2d8",
   "metadata": {},
   "outputs": [
    {
     "name": "stdout",
     "output_type": "stream",
     "text": [
      "In base class\n",
      "Call a child-class function\n"
     ]
    }
   ],
   "source": [
    "from __future__ import annotations\n",
    "\n",
    "from typing import Any\n",
    "\n",
    "class BaseMixTransform:\n",
    "    def __init__(self, pre_transform=None, p=0.0)->None:\n",
    "        self.p=p\n",
    "        \n",
    "    def __call__(self, labels: dict[str, Any]=None) -> dict[str, Any]:\n",
    "        print('In base class')\n",
    "        self._mix_transform(labels)\n",
    "        \n",
    "    def _mix_transform(self, labels: dict[str, Any]=None)->dict[str, Any]:\n",
    "        raise NotImplementedError\n",
    "\n",
    "class Mosaic(BaseMixTransform):\n",
    "\n",
    "    def __init__(self, imgsz:int=640, p:float=1.0, n:int=4, buffer_enabled:bool=False):\n",
    "        self.imgsz=imgsz\n",
    "            \n",
    "    def _mix_transform(self, labels: dict[str, Any]=None)->dict[str, Any]:\n",
    "        print('Call a child-class function')\n",
    "    \n",
    "mosaic=Mosaic()\n",
    "mosaic()\n",
    "\n",
    " "
   ]
  },
  {
   "cell_type": "code",
   "execution_count": 21,
   "id": "4c55e199-ef43-4021-94a6-1c4a6b482de6",
   "metadata": {},
   "outputs": [],
   "source": [
    "data_dirpath='D:/dev/video_processing/yolov11/notebook'\n",
    "task_outs=torch.load(os.path.join(data_dirpath, 'nn.tasks.BaseModel.predict.pt'), weights_only=False)\n",
    "pred_outs=torch.load(os.path.join(data_dirpath, 'engine.predictor.BasePredictor.stream_inference.pt'), weights_only=False)\n",
    "post_ins=torch.load(os.path.join(data_dirpath, 'models.yolo.detect.predict.DetectionPredictor.postprocess.pt'), weights_only=False)\n",
    "custom_outs=torch.load(os.path.join(data_dirpath, 'custom.pt'), weights_only=False)"
   ]
  },
  {
   "cell_type": "code",
   "execution_count": 22,
   "id": "b230d696-4132-42ce-894f-776e8aed25b8",
   "metadata": {},
   "outputs": [
    {
     "data": {
      "text/plain": [
       "([torch.Tensor, list],\n",
       " torch.Size([3, 84, 8400]),\n",
       " [torch.Tensor, torch.Tensor, torch.Tensor],\n",
       " [torch.Size([3, 144, 80, 80]),\n",
       "  torch.Size([3, 144, 40, 40]),\n",
       "  torch.Size([3, 144, 20, 20])])"
      ]
     },
     "execution_count": 22,
     "metadata": {},
     "output_type": "execute_result"
    }
   ],
   "source": [
    "[type(p) for p in task_outs], task_outs[0].shape, [type(p) for p in task_outs[-1]], [p.shape for p in task_outs[-1]]"
   ]
  },
  {
   "cell_type": "code",
   "execution_count": 23,
   "id": "9138bf02-31ab-4698-b19e-6fed4fce1ca7",
   "metadata": {},
   "outputs": [
    {
     "data": {
      "text/plain": [
       "([torch.Tensor, list],\n",
       " torch.Size([3, 84, 8400]),\n",
       " [torch.Tensor, torch.Tensor, torch.Tensor],\n",
       " [torch.Size([3, 144, 80, 80]),\n",
       "  torch.Size([3, 144, 40, 40]),\n",
       "  torch.Size([3, 144, 20, 20])])"
      ]
     },
     "execution_count": 23,
     "metadata": {},
     "output_type": "execute_result"
    }
   ],
   "source": [
    "[type(p) for p in pred_outs], pred_outs[0].shape, [type(p) for p in pred_outs[-1]] , [p.shape for p in pred_outs[-1]]"
   ]
  },
  {
   "cell_type": "code",
   "execution_count": 24,
   "id": "e0a4e8c1-d879-4a39-a8c0-1a377bd3ddda",
   "metadata": {},
   "outputs": [
    {
     "data": {
      "text/plain": [
       "([torch.Tensor, list],\n",
       " torch.Size([3, 84, 8400]),\n",
       " [torch.Tensor, torch.Tensor, torch.Tensor],\n",
       " [torch.Size([3, 144, 80, 80]),\n",
       "  torch.Size([3, 144, 40, 40]),\n",
       "  torch.Size([3, 144, 20, 20])])"
      ]
     },
     "execution_count": 24,
     "metadata": {},
     "output_type": "execute_result"
    }
   ],
   "source": [
    "[type(p) for p in post_ins], post_ins[0].shape, [type(p) for p in post_ins[-1]] , [p.shape for p in post_ins[-1]]"
   ]
  },
  {
   "cell_type": "code",
   "execution_count": 25,
   "id": "62ea9d7b-25ef-4eef-b5a4-3efefec47a9b",
   "metadata": {},
   "outputs": [
    {
     "data": {
      "text/plain": [
       "([torch.Tensor, list],\n",
       " torch.Size([3, 84, 8400]),\n",
       " [torch.Tensor, torch.Tensor, torch.Tensor],\n",
       " [torch.Size([3, 144, 80, 80]),\n",
       "  torch.Size([3, 144, 40, 40]),\n",
       "  torch.Size([3, 144, 20, 20])])"
      ]
     },
     "execution_count": 25,
     "metadata": {},
     "output_type": "execute_result"
    }
   ],
   "source": [
    "[type(p) for p in custom_outs], custom_outs[0].shape, [type(p) for p in custom_outs[-1]] , [p.shape for p in custom_outs[-1]]"
   ]
  },
  {
   "cell_type": "code",
   "execution_count": 26,
   "id": "7a8acd47-ed77-4c19-95f8-bd41374e5758",
   "metadata": {},
   "outputs": [
    {
     "name": "stdout",
     "output_type": "stream",
     "text": [
      "True [True, True, True]\n",
      "False [False, False, False]\n"
     ]
    }
   ],
   "source": [
    "print(torch.allclose(task_outs[0], post_ins[0]), [torch.allclose(a,b) for a, b in zip(task_outs[-1], post_ins[-1])])\n",
    "print(torch.allclose(custom_outs[0], post_ins[0]), [torch.allclose(a,b) for a, b in zip(custom_outs[-1], post_ins[-1])])"
   ]
  },
  {
   "cell_type": "code",
   "execution_count": 27,
   "id": "f92b61fa-2c9d-49f6-9c79-7f94eb5c3688",
   "metadata": {},
   "outputs": [
    {
     "name": "stdout",
     "output_type": "stream",
     "text": [
      "0.0 411.9246826171875\n"
     ]
    }
   ],
   "source": [
    "diff=(custom_outs[0]-post_ins[0]).abs()\n",
    "print(diff.min().item(), diff.max().item())"
   ]
  }
 ],
 "metadata": {
  "kernelspec": {
   "display_name": "Python [conda env:op_cv]",
   "language": "python",
   "name": "conda-env-op_cv-py"
  },
  "language_info": {
   "codemirror_mode": {
    "name": "ipython",
    "version": 3
   },
   "file_extension": ".py",
   "mimetype": "text/x-python",
   "name": "python",
   "nbconvert_exporter": "python",
   "pygments_lexer": "ipython3",
   "version": "3.9.21"
  }
 },
 "nbformat": 4,
 "nbformat_minor": 5
}
