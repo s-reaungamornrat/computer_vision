{
 "cells": [
  {
   "cell_type": "markdown",
   "id": "1a489ec7-d892-40ac-8cb8-b356d43dc322",
   "metadata": {},
   "source": [
    "[MOT Challenge](https://motchallenge.net/)"
   ]
  },
  {
   "cell_type": "code",
   "execution_count": 5,
   "id": "c5c943bf-f2ba-47a4-83f4-daf2ed5c8338",
   "metadata": {},
   "outputs": [
    {
     "name": "stdout",
     "output_type": "stream",
     "text": [
      "100% [.............................................] 5860214001 / 5860214001D:/data/MOT/MOT17.zip\n",
      "100% [.................................................] 10107022 / 10107022D:/data/MOT/MOT17Labels.zip\n"
     ]
    }
   ],
   "source": [
    "import wget \n",
    "\n",
    "output_directory = 'D:/data/MOT'\n",
    "url='https://motchallenge.net/data'\n",
    "\n",
    "for file in ['MOT17.zip', 'MOT17Labels.zip']:\n",
    "    filename = wget.download(f'{url}/{file}', out=output_directory)\n",
    "    print(filename)"
   ]
  }
 ],
 "metadata": {
  "kernelspec": {
   "display_name": "op_cv",
   "language": "python",
   "name": "op_cv"
  },
  "language_info": {
   "codemirror_mode": {
    "name": "ipython",
    "version": 3
   },
   "file_extension": ".py",
   "mimetype": "text/x-python",
   "name": "python",
   "nbconvert_exporter": "python",
   "pygments_lexer": "ipython3",
   "version": "3.9.21"
  }
 },
 "nbformat": 4,
 "nbformat_minor": 5
}
